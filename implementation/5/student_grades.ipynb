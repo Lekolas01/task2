{
 "cells": [
  {
   "cell_type": "code",
   "execution_count": null,
   "id": "rolled-columbia",
   "metadata": {},
   "outputs": [],
   "source": [
    "num_students = 5000\n",
    "num_courses = 20\n",
    "\n",
    "filename = \"grading\"\n",
    "f_train_pos = open(filename+\".f\", \"w\")\n",
    "f_train_neg = open(filename+\".n\", \"w\")\n",
    "\n",
    "for idx in range(num_students):\n",
    "    \n",
    "    "
   ]
  }
 ],
 "metadata": {
  "kernelspec": {
   "display_name": "Python 3",
   "language": "python",
   "name": "python3"
  },
  "language_info": {
   "codemirror_mode": {
    "name": "ipython",
    "version": 3
   },
   "file_extension": ".py",
   "mimetype": "text/x-python",
   "name": "python",
   "nbconvert_exporter": "python",
   "pygments_lexer": "ipython3",
   "version": "3.8.8"
  }
 },
 "nbformat": 4,
 "nbformat_minor": 5
}
