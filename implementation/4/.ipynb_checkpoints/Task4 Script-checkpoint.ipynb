{
 "cells": [
  {
   "cell_type": "code",
   "execution_count": 6,
   "id": "split-latitude",
   "metadata": {},
   "outputs": [],
   "source": [
    "import csv\n",
    "import string\n",
    "\n",
    "filename = \"generalization\"\n",
    "f_train_pos = open(filename+\".f\", \"w\")\n",
    "f_train_neg = open(filename+\".n\", \"w\")\n",
    "\n",
    "with open('training_dataset.csv', 'r') as file:\n",
    "    reader = csv.reader(file)\n",
    "    names = next(reader)[:-1]   \n",
    "    for row in reader:\n",
    "        if row[-1] == \"Bad\":\n",
    "            f_train_neg.write(filename+\"(\"+\",\".join(map(lambda x: x.lower(), row[:-1]))+\").\\n\")\n",
    "        else:\n",
    "            f_train_pos.write(filename+\"(\"+\",\".join(map(lambda x: x.lower(), row[:-1]))+\").\\n\")\n",
    "f_train_pos.close()\n",
    "f_train_neg.close()\n",
    "\n",
    "f_test_pos = open(filename+\"_test.f\", \"w\")\n",
    "f_test_neg = open(filename+\"_test.n\", \"w\")\n",
    "\n",
    "with open('testing_dataset.csv', 'r') as file:\n",
    "    reader = csv.reader(file)\n",
    "    names = next(reader)[:-1]   \n",
    "    for row in reader:\n",
    "        if row[-1] == \"Bad\":\n",
    "            f_test_pos.write(filename+\"(\"+\",\".join(map(lambda x: x.lower(), row[:-1]))+\").\\n\")\n",
    "        else:\n",
    "            f_test_neg.write(filename+\"(\"+\",\".join(map(lambda x: x.lower(), row[:-1]))+\").\\n\")\n",
    "f_test_pos.close()\n",
    "f_test_neg.close()\n",
    "\n",
    "f_background = open(filename+\"_background.txt\", \"w\")\n",
    "store = {}\n",
    "with open('training_dataset.csv', 'r') as file:\n",
    "    reader = csv.reader(file)\n",
    "    names = next(reader)[:-1] \n",
    "      \n",
    "    for row in reader:\n",
    "        for att, val in zip(names, row[:-1]):\n",
    "            try:\n",
    "                store[att].add(val)\n",
    "            except KeyError:\n",
    "                store[att] = {val}\n",
    "                \n",
    "for key in store.keys():\n",
    "    #print(key)\n",
    "    for value in store[key]:\n",
    "        f_background.write(key.lower()+\"(\"+value.lower()+\").\\n\")\n",
    "f_background.close()\n"
   ]
  },
  {
   "cell_type": "code",
   "execution_count": null,
   "id": "quarterly-warren",
   "metadata": {},
   "outputs": [],
   "source": []
  }
 ],
 "metadata": {
  "kernelspec": {
   "display_name": "Python 3",
   "language": "python",
   "name": "python3"
  },
  "language_info": {
   "codemirror_mode": {
    "name": "ipython",
    "version": 3
   },
   "file_extension": ".py",
   "mimetype": "text/x-python",
   "name": "python",
   "nbconvert_exporter": "python",
   "pygments_lexer": "ipython3",
   "version": "3.8.8"
  }
 },
 "nbformat": 4,
 "nbformat_minor": 5
}
